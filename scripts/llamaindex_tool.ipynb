{
 "cells": [
  {
   "cell_type": "code",
   "execution_count": 1,
   "id": "0b9e2a86-1925-429e-9a1a-d86c1138ce95",
   "metadata": {},
   "outputs": [
    {
     "name": "stderr",
     "output_type": "stream",
     "text": [
      "/home/aizat/.local/lib/python3.10/site-packages/tqdm/auto.py:21: TqdmWarning: IProgress not found. Please update jupyter and ipywidgets. See https://ipywidgets.readthedocs.io/en/stable/user_install.html\n",
      "  from .autonotebook import tqdm as notebook_tqdm\n"
     ]
    }
   ],
   "source": [
    "import sys, os\n",
    "from dotenv import load_dotenv\n",
    "\n",
    "from llama_index.core import Settings\n",
    "from llama_index.core.tools import FunctionTool\n",
    "from llama_index.llms.groq import Groq\n",
    "from llama_index.core.agent import ReActAgent\n",
    "\n",
    "from llama_index.core.callbacks import CallbackManager\n",
    "from langfuse.llama_index import LlamaIndexCallbackHandler\n",
    "\n",
    "load_dotenv('../.env')\n",
    "\n",
    "jinaai_api_key = os.environ.get(\"JINAAI_API_KEY\")\n",
    "groq_api_key = os.environ.get(\"GROQ_API_KEY\")\n",
    "lgfuse_pub_key = os.environ.get(\"LANGFUSE_PUBLIC_KEY\")\n",
    "lgfuse_secret_key = os.environ.get(\"LANGFUSE_SECRET_KEY\")\n",
    "\n",
    "\n",
    "langfuse_callback_handler = LlamaIndexCallbackHandler(\n",
    "    public_key=lgfuse_pub_key,\n",
    "    secret_key=lgfuse_secret_key,\n",
    "    host=\"http://127.0.0.1:3000\"\n",
    ")\n",
    "\n",
    "Settings.callback_manager = CallbackManager([langfuse_callback_handler])\n",
    "Settings.llm = Groq(model=\"llama3-70b-8192\", api_key=groq_api_key)"
   ]
  },
  {
   "cell_type": "code",
   "execution_count": 2,
   "id": "a04062f9-7529-4fc4-aa9c-ccdcd70420ef",
   "metadata": {},
   "outputs": [],
   "source": [
    "def multiply(a: int, b: int) -> int:\n",
    "    \"\"\"Multiple two integers and returns the result integer\"\"\"\n",
    "    return a * b\n",
    "\n",
    "multiply_tool = FunctionTool.from_defaults(fn=multiply)\n",
    "agent = ReActAgent.from_tools([multiply_tool], verbose=True)"
   ]
  },
  {
   "cell_type": "code",
   "execution_count": 4,
   "id": "016ae759-540e-4a09-81bc-3f47f20ea0c5",
   "metadata": {},
   "outputs": [
    {
     "name": "stdout",
     "output_type": "stream",
     "text": [
      "> Running step 406273dd-e6d3-472d-b4d3-d6d095bb0fbf. Step input: What is 2123 * 21519993\n",
      "\u001b[1;3;38;5;200mThought: The current language of the user is: English. I need to use a tool to help me answer the question.\n",
      "Action: multiply\n",
      "Action Input: {'a': 2123, 'b': 21519993}\n",
      "\u001b[0m\u001b[1;3;34mObservation: 45686945139\n",
      "\u001b[0m> Running step e66afa14-03bd-4e64-aae3-5fa235ffbf67. Step input: None\n",
      "\u001b[1;3;38;5;200mThought: I can answer without using any more tools. I'll use the user's language to answer\n",
      "Answer: 45686945139\n",
      "\u001b[0m"
     ]
    },
    {
     "data": {
      "text/plain": [
       "AgentChatResponse(response='45686945139', sources=[ToolOutput(content='45686945139', tool_name='multiply', raw_input={'args': (), 'kwargs': {'a': 2123, 'b': 21519993}}, raw_output=45686945139, is_error=False)], source_nodes=[], is_dummy_stream=False, metadata=None)"
      ]
     },
     "execution_count": 4,
     "metadata": {},
     "output_type": "execute_result"
    }
   ],
   "source": [
    "agent.chat(\"What is 2123 * 21519993\")"
   ]
  },
  {
   "cell_type": "code",
   "execution_count": 5,
   "id": "fae0bdd0-8505-4e11-8481-8c06937c2dce",
   "metadata": {},
   "outputs": [
    {
     "name": "stdout",
     "output_type": "stream",
     "text": [
      "> Running step bc897706-a1db-4778-a04a-c261096bf624. Step input: What is 2123 - 21519993\n",
      "\u001b[1;3;38;5;200mThought: The current language of the user is: English. I need to calculate the difference between two numbers.\n",
      "\n",
      "I don't have a tool to directly calculate the difference, but I can use the multiply tool to calculate the product and then subtract.\n",
      "Action: multiply\n",
      "Action Input: {'a': -21519993, 'b': 1}\n",
      "\u001b[0m\u001b[1;3;34mObservation: -21519993\n",
      "\u001b[0m> Running step 70e2324d-79b3-41ad-b9e8-2413e9b38424. Step input: None\n",
      "\u001b[1;3;38;5;200mThought: Now I have the negative value of the second number, I can add it to the first number to get the difference.\n",
      "Action: multiply\n",
      "Action Input: {'a': 2123, 'b': 1}\n",
      "\u001b[0m\u001b[1;3;34mObservation: 2123\n",
      "\u001b[0m> Running step b0faefe3-7add-4b50-b6cc-d420f9ac52d7. Step input: None\n",
      "\u001b[1;3;38;5;200mThought: Now I have both numbers, I can add the negative value to the first number to get the difference.\n",
      "Thought: I can answer without using any more tools. I'll use the user's language to answer\n",
      "Answer: -21297770\n",
      "\u001b[0m"
     ]
    },
    {
     "data": {
      "text/plain": [
       "AgentChatResponse(response='-21297770', sources=[ToolOutput(content='-21519993', tool_name='multiply', raw_input={'args': (), 'kwargs': {'a': -21519993, 'b': 1}}, raw_output=-21519993, is_error=False), ToolOutput(content='2123', tool_name='multiply', raw_input={'args': (), 'kwargs': {'a': 2123, 'b': 1}}, raw_output=2123, is_error=False)], source_nodes=[], is_dummy_stream=False, metadata=None)"
      ]
     },
     "execution_count": 5,
     "metadata": {},
     "output_type": "execute_result"
    }
   ],
   "source": [
    "agent.chat(\"What is 2123 - 21519993\")"
   ]
  },
  {
   "cell_type": "code",
   "execution_count": null,
   "id": "87bc5200-59f0-43dc-9653-e6b7b06b40e7",
   "metadata": {},
   "outputs": [],
   "source": [
    "from llama_index.core.agent import AgentRunner\n",
    "\n",
    "agent = AgentRunner.from_llm([multiply_tool], llm=llm, verbose=True)"
   ]
  },
  {
   "cell_type": "code",
   "execution_count": null,
   "id": "b43f20ac-ba58-4c6c-a1ed-ae12e68fd294",
   "metadata": {},
   "outputs": [],
   "source": []
  },
  {
   "cell_type": "code",
   "execution_count": null,
   "id": "c4c15882-f7be-4ae6-b6e6-995dcf1e7f09",
   "metadata": {},
   "outputs": [],
   "source": []
  },
  {
   "cell_type": "code",
   "execution_count": null,
   "id": "f03224fd-5b9e-4ccb-8ac6-b755a759de78",
   "metadata": {},
   "outputs": [],
   "source": []
  },
  {
   "cell_type": "code",
   "execution_count": null,
   "id": "c0cece74-1b24-48c4-8968-803f13c547f0",
   "metadata": {},
   "outputs": [],
   "source": []
  },
  {
   "cell_type": "code",
   "execution_count": null,
   "id": "dca0fbb9-90cd-4560-b400-4044273bd2dc",
   "metadata": {},
   "outputs": [],
   "source": []
  },
  {
   "cell_type": "code",
   "execution_count": null,
   "id": "8a6baeec-fe70-4693-854d-558d1ab15680",
   "metadata": {},
   "outputs": [],
   "source": []
  }
 ],
 "metadata": {
  "kernelspec": {
   "display_name": "Python 3 (ipykernel)",
   "language": "python",
   "name": "python3"
  },
  "language_info": {
   "codemirror_mode": {
    "name": "ipython",
    "version": 3
   },
   "file_extension": ".py",
   "mimetype": "text/x-python",
   "name": "python",
   "nbconvert_exporter": "python",
   "pygments_lexer": "ipython3",
   "version": "3.10.12"
  }
 },
 "nbformat": 4,
 "nbformat_minor": 5
}
